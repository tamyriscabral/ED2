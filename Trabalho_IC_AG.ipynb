{
  "nbformat": 4,
  "nbformat_minor": 0,
  "metadata": {
    "colab": {
      "provenance": [],
      "include_colab_link": true
    },
    "kernelspec": {
      "name": "python3",
      "display_name": "Python 3"
    },
    "language_info": {
      "name": "python"
    }
  },
  "cells": [
    {
      "cell_type": "markdown",
      "metadata": {
        "id": "view-in-github",
        "colab_type": "text"
      },
      "source": [
        "<a href=\"https://colab.research.google.com/github/tamyriscabral/ED2/blob/main/Trabalho_IC_AG.ipynb\" target=\"_parent\"><img src=\"https://colab.research.google.com/assets/colab-badge.svg\" alt=\"Open In Colab\"/></a>"
      ]
    },
    {
      "cell_type": "code",
      "source": [
        "import pandas as pd\n",
        "import numpy as np\n",
        "import matplotlib.pyplot as plt\n",
        "import random\n",
        "\n",
        "url = '/content/cities.csv'\n",
        "\n",
        "cidades = pd.read_csv(url)"
      ],
      "metadata": {
        "id": "IPHMOHDRJQAM",
        "colab": {
          "base_uri": "https://localhost:8080/",
          "height": 329
        },
        "outputId": "6ee7127c-6659-4148-87f1-26b040aa7b08"
      },
      "execution_count": 1,
      "outputs": [
        {
          "output_type": "error",
          "ename": "FileNotFoundError",
          "evalue": "[Errno 2] No such file or directory: '/content/cities.csv'",
          "traceback": [
            "\u001b[0;31m---------------------------------------------------------------------------\u001b[0m",
            "\u001b[0;31mFileNotFoundError\u001b[0m                         Traceback (most recent call last)",
            "\u001b[0;32m<ipython-input-1-c8cd6f2cac94>\u001b[0m in \u001b[0;36m<cell line: 0>\u001b[0;34m()\u001b[0m\n\u001b[1;32m      6\u001b[0m \u001b[0murl\u001b[0m \u001b[0;34m=\u001b[0m \u001b[0;34m'/content/cities.csv'\u001b[0m\u001b[0;34m\u001b[0m\u001b[0;34m\u001b[0m\u001b[0m\n\u001b[1;32m      7\u001b[0m \u001b[0;34m\u001b[0m\u001b[0m\n\u001b[0;32m----> 8\u001b[0;31m \u001b[0mcidades\u001b[0m \u001b[0;34m=\u001b[0m \u001b[0mpd\u001b[0m\u001b[0;34m.\u001b[0m\u001b[0mread_csv\u001b[0m\u001b[0;34m(\u001b[0m\u001b[0murl\u001b[0m\u001b[0;34m)\u001b[0m\u001b[0;34m\u001b[0m\u001b[0;34m\u001b[0m\u001b[0m\n\u001b[0m",
            "\u001b[0;32m/usr/local/lib/python3.11/dist-packages/pandas/io/parsers/readers.py\u001b[0m in \u001b[0;36mread_csv\u001b[0;34m(filepath_or_buffer, sep, delimiter, header, names, index_col, usecols, dtype, engine, converters, true_values, false_values, skipinitialspace, skiprows, skipfooter, nrows, na_values, keep_default_na, na_filter, verbose, skip_blank_lines, parse_dates, infer_datetime_format, keep_date_col, date_parser, date_format, dayfirst, cache_dates, iterator, chunksize, compression, thousands, decimal, lineterminator, quotechar, quoting, doublequote, escapechar, comment, encoding, encoding_errors, dialect, on_bad_lines, delim_whitespace, low_memory, memory_map, float_precision, storage_options, dtype_backend)\u001b[0m\n\u001b[1;32m   1024\u001b[0m     \u001b[0mkwds\u001b[0m\u001b[0;34m.\u001b[0m\u001b[0mupdate\u001b[0m\u001b[0;34m(\u001b[0m\u001b[0mkwds_defaults\u001b[0m\u001b[0;34m)\u001b[0m\u001b[0;34m\u001b[0m\u001b[0;34m\u001b[0m\u001b[0m\n\u001b[1;32m   1025\u001b[0m \u001b[0;34m\u001b[0m\u001b[0m\n\u001b[0;32m-> 1026\u001b[0;31m     \u001b[0;32mreturn\u001b[0m \u001b[0m_read\u001b[0m\u001b[0;34m(\u001b[0m\u001b[0mfilepath_or_buffer\u001b[0m\u001b[0;34m,\u001b[0m \u001b[0mkwds\u001b[0m\u001b[0;34m)\u001b[0m\u001b[0;34m\u001b[0m\u001b[0;34m\u001b[0m\u001b[0m\n\u001b[0m\u001b[1;32m   1027\u001b[0m \u001b[0;34m\u001b[0m\u001b[0m\n\u001b[1;32m   1028\u001b[0m \u001b[0;34m\u001b[0m\u001b[0m\n",
            "\u001b[0;32m/usr/local/lib/python3.11/dist-packages/pandas/io/parsers/readers.py\u001b[0m in \u001b[0;36m_read\u001b[0;34m(filepath_or_buffer, kwds)\u001b[0m\n\u001b[1;32m    618\u001b[0m \u001b[0;34m\u001b[0m\u001b[0m\n\u001b[1;32m    619\u001b[0m     \u001b[0;31m# Create the parser.\u001b[0m\u001b[0;34m\u001b[0m\u001b[0;34m\u001b[0m\u001b[0m\n\u001b[0;32m--> 620\u001b[0;31m     \u001b[0mparser\u001b[0m \u001b[0;34m=\u001b[0m \u001b[0mTextFileReader\u001b[0m\u001b[0;34m(\u001b[0m\u001b[0mfilepath_or_buffer\u001b[0m\u001b[0;34m,\u001b[0m \u001b[0;34m**\u001b[0m\u001b[0mkwds\u001b[0m\u001b[0;34m)\u001b[0m\u001b[0;34m\u001b[0m\u001b[0;34m\u001b[0m\u001b[0m\n\u001b[0m\u001b[1;32m    621\u001b[0m \u001b[0;34m\u001b[0m\u001b[0m\n\u001b[1;32m    622\u001b[0m     \u001b[0;32mif\u001b[0m \u001b[0mchunksize\u001b[0m \u001b[0;32mor\u001b[0m \u001b[0miterator\u001b[0m\u001b[0;34m:\u001b[0m\u001b[0;34m\u001b[0m\u001b[0;34m\u001b[0m\u001b[0m\n",
            "\u001b[0;32m/usr/local/lib/python3.11/dist-packages/pandas/io/parsers/readers.py\u001b[0m in \u001b[0;36m__init__\u001b[0;34m(self, f, engine, **kwds)\u001b[0m\n\u001b[1;32m   1618\u001b[0m \u001b[0;34m\u001b[0m\u001b[0m\n\u001b[1;32m   1619\u001b[0m         \u001b[0mself\u001b[0m\u001b[0;34m.\u001b[0m\u001b[0mhandles\u001b[0m\u001b[0;34m:\u001b[0m \u001b[0mIOHandles\u001b[0m \u001b[0;34m|\u001b[0m \u001b[0;32mNone\u001b[0m \u001b[0;34m=\u001b[0m \u001b[0;32mNone\u001b[0m\u001b[0;34m\u001b[0m\u001b[0;34m\u001b[0m\u001b[0m\n\u001b[0;32m-> 1620\u001b[0;31m         \u001b[0mself\u001b[0m\u001b[0;34m.\u001b[0m\u001b[0m_engine\u001b[0m \u001b[0;34m=\u001b[0m \u001b[0mself\u001b[0m\u001b[0;34m.\u001b[0m\u001b[0m_make_engine\u001b[0m\u001b[0;34m(\u001b[0m\u001b[0mf\u001b[0m\u001b[0;34m,\u001b[0m \u001b[0mself\u001b[0m\u001b[0;34m.\u001b[0m\u001b[0mengine\u001b[0m\u001b[0;34m)\u001b[0m\u001b[0;34m\u001b[0m\u001b[0;34m\u001b[0m\u001b[0m\n\u001b[0m\u001b[1;32m   1621\u001b[0m \u001b[0;34m\u001b[0m\u001b[0m\n\u001b[1;32m   1622\u001b[0m     \u001b[0;32mdef\u001b[0m \u001b[0mclose\u001b[0m\u001b[0;34m(\u001b[0m\u001b[0mself\u001b[0m\u001b[0;34m)\u001b[0m \u001b[0;34m->\u001b[0m \u001b[0;32mNone\u001b[0m\u001b[0;34m:\u001b[0m\u001b[0;34m\u001b[0m\u001b[0;34m\u001b[0m\u001b[0m\n",
            "\u001b[0;32m/usr/local/lib/python3.11/dist-packages/pandas/io/parsers/readers.py\u001b[0m in \u001b[0;36m_make_engine\u001b[0;34m(self, f, engine)\u001b[0m\n\u001b[1;32m   1878\u001b[0m                 \u001b[0;32mif\u001b[0m \u001b[0;34m\"b\"\u001b[0m \u001b[0;32mnot\u001b[0m \u001b[0;32min\u001b[0m \u001b[0mmode\u001b[0m\u001b[0;34m:\u001b[0m\u001b[0;34m\u001b[0m\u001b[0;34m\u001b[0m\u001b[0m\n\u001b[1;32m   1879\u001b[0m                     \u001b[0mmode\u001b[0m \u001b[0;34m+=\u001b[0m \u001b[0;34m\"b\"\u001b[0m\u001b[0;34m\u001b[0m\u001b[0;34m\u001b[0m\u001b[0m\n\u001b[0;32m-> 1880\u001b[0;31m             self.handles = get_handle(\n\u001b[0m\u001b[1;32m   1881\u001b[0m                 \u001b[0mf\u001b[0m\u001b[0;34m,\u001b[0m\u001b[0;34m\u001b[0m\u001b[0;34m\u001b[0m\u001b[0m\n\u001b[1;32m   1882\u001b[0m                 \u001b[0mmode\u001b[0m\u001b[0;34m,\u001b[0m\u001b[0;34m\u001b[0m\u001b[0;34m\u001b[0m\u001b[0m\n",
            "\u001b[0;32m/usr/local/lib/python3.11/dist-packages/pandas/io/common.py\u001b[0m in \u001b[0;36mget_handle\u001b[0;34m(path_or_buf, mode, encoding, compression, memory_map, is_text, errors, storage_options)\u001b[0m\n\u001b[1;32m    871\u001b[0m         \u001b[0;32mif\u001b[0m \u001b[0mioargs\u001b[0m\u001b[0;34m.\u001b[0m\u001b[0mencoding\u001b[0m \u001b[0;32mand\u001b[0m \u001b[0;34m\"b\"\u001b[0m \u001b[0;32mnot\u001b[0m \u001b[0;32min\u001b[0m \u001b[0mioargs\u001b[0m\u001b[0;34m.\u001b[0m\u001b[0mmode\u001b[0m\u001b[0;34m:\u001b[0m\u001b[0;34m\u001b[0m\u001b[0;34m\u001b[0m\u001b[0m\n\u001b[1;32m    872\u001b[0m             \u001b[0;31m# Encoding\u001b[0m\u001b[0;34m\u001b[0m\u001b[0;34m\u001b[0m\u001b[0m\n\u001b[0;32m--> 873\u001b[0;31m             handle = open(\n\u001b[0m\u001b[1;32m    874\u001b[0m                 \u001b[0mhandle\u001b[0m\u001b[0;34m,\u001b[0m\u001b[0;34m\u001b[0m\u001b[0;34m\u001b[0m\u001b[0m\n\u001b[1;32m    875\u001b[0m                 \u001b[0mioargs\u001b[0m\u001b[0;34m.\u001b[0m\u001b[0mmode\u001b[0m\u001b[0;34m,\u001b[0m\u001b[0;34m\u001b[0m\u001b[0;34m\u001b[0m\u001b[0m\n",
            "\u001b[0;31mFileNotFoundError\u001b[0m: [Errno 2] No such file or directory: '/content/cities.csv'"
          ]
        }
      ]
    },
    {
      "cell_type": "code",
      "source": [
        "def load_cities(csv_file):\n",
        "    \"\"\"\n",
        "    Load cities from a CSV file\n",
        "    \"\"\"\n",
        "    cities_df = pd.read_csv(csv_file)\n",
        "    print(f\"Loaded {len(cities_df)} cities from {csv_file}\")\n",
        "    return cities_df"
      ],
      "metadata": {
        "id": "0zFeT0XsAr1A"
      },
      "execution_count": null,
      "outputs": []
    },
    {
      "cell_type": "code",
      "source": [
        "def plot_cities(cities_df=None, csv_file=None, show_indices=True, save_plot=False, filename='cities_plot.png'):\n",
        "    \"\"\"\n",
        "    Plot the cities\n",
        "    \"\"\"\n",
        "    # Load cities from CSV if not provided as DataFrame\n",
        "    if cities_df is None and csv_file is not None:\n",
        "        cities_df = load_cities(csv_file)\n",
        "    elif cities_df is None:\n",
        "        raise ValueError(\"Either cities_df or csv_file must be provided\")\n",
        "\n",
        "    # Get distance unit from the DataFrame attributes\n",
        "    distance_unit = cities_df.attrs.get('distance_unit', 'units')\n",
        "\n",
        "    plt.figure(figsize=(10, 8))\n",
        "    plt.scatter(cities_df['x'], cities_df['y'], c='blue', s=100)\n",
        "\n",
        "    if show_indices:\n",
        "        for i, row in cities_df.iterrows():\n",
        "            plt.annotate(str(row['city_id']),\n",
        "                         (row['x'] + 0.5, row['y'] + 0.5),\n",
        "                         fontsize=12)\n",
        "\n",
        "    plt.title('Cities for TSP')\n",
        "    plt.xlabel(f'X Coordinate ({distance_unit})')\n",
        "    plt.ylabel(f'Y Coordinate ({distance_unit})')\n",
        "    plt.grid(True)\n",
        "\n",
        "    if save_plot:\n",
        "        plt.savefig(filename)\n",
        "        print(f\"Plot saved to {filename}\")\n",
        "\n",
        "    plt.show()"
      ],
      "metadata": {
        "id": "-guh3A0CApYA"
      },
      "execution_count": null,
      "outputs": []
    },
    {
      "cell_type": "code",
      "source": [
        "def plot_paths(cities_df, paths, show_indices=True, save_plot=False, filename='paths_plot.png',\n",
        "               base_coords=None, return_to_base=False):\n",
        "    \"\"\"\n",
        "    Plot multiple paths between cities\n",
        "\n",
        "    Args:\n",
        "        cities_df (DataFrame): DataFrame containing city information with 'city_id', 'x', and 'y' columns\n",
        "        paths (list): List of lists, where each inner list contains a sequence of city_ids representing a path\n",
        "        show_indices (bool): Whether to show city indices on the plot\n",
        "        save_plot (bool): Whether to save the plot to a file\n",
        "        filename (str): Filename to save the plot if save_plot is True\n",
        "        base_coords (tuple): Coordinates of the base location (x, y) if return_to_base is True\n",
        "        return_to_base (bool): Whether paths should return to the base location\n",
        "    \"\"\"\n",
        "    # Get distance unit from the DataFrame attributes\n",
        "    distance_unit = cities_df.attrs.get('distance_unit', 'units')\n",
        "\n",
        "    plt.figure(figsize=(12, 10))\n",
        "\n",
        "    # Plot all cities\n",
        "    plt.scatter(cities_df['x'], cities_df['y'], c='gray', s=50, alpha=0.5)\n",
        "\n",
        "    # Plot base location if return_to_base is True\n",
        "    if return_to_base and base_coords is not None:\n",
        "        plt.scatter(base_coords[0], base_coords[1], c='black', s=100, marker='*', label='Base')\n",
        "\n",
        "    # Colors for different paths\n",
        "    colors = ['red', 'blue', 'green', 'purple', 'orange', 'brown', 'pink', 'cyan', 'magenta', 'yellow']\n",
        "\n",
        "    # Plot each path\n",
        "    for i, path in enumerate(paths):\n",
        "        path_color = colors[i % len(colors)]\n",
        "\n",
        "        # Get coordinates for the path\n",
        "        x_coords = cities_df.loc[path, 'x'].values\n",
        "        y_coords = cities_df.loc[path, 'y'].values\n",
        "\n",
        "        # If returning to base, add base coordinates to start and end of path\n",
        "        if return_to_base and base_coords is not None and len(path) > 0:\n",
        "            x_coords = np.concatenate(([base_coords[0]], x_coords, [base_coords[0]]))\n",
        "            y_coords = np.concatenate(([base_coords[1]], y_coords, [base_coords[1]]))\n",
        "\n",
        "        # Calculate path distance\n",
        "        path_distance = 0\n",
        "        for j in range(len(x_coords) - 1):\n",
        "            dx = x_coords[j+1] - x_coords[j]\n",
        "            dy = y_coords[j+1] - y_coords[j]\n",
        "            path_distance += np.sqrt(dx**2 + dy**2)\n",
        "\n",
        "        # Plot the path\n",
        "        plt.plot(x_coords, y_coords, 'o-', color=path_color, linewidth=2,\n",
        "                 label=f'Path {i+1}: {len(path)} cities, {path_distance:.2f} {distance_unit}')\n",
        "\n",
        "        # Add city labels if requested\n",
        "        if show_indices:\n",
        "            for j, city_id in enumerate(path):\n",
        "                plt.annotate(str(city_id), (cities_df.loc[city_id, 'x'], cities_df.loc[city_id, 'y']), fontsize=10)\n",
        "\n",
        "    plt.title('Travel Paths Between Cities')\n",
        "    plt.xlabel(f'X Coordinate ({distance_unit})')\n",
        "    plt.ylabel(f'Y Coordinate ({distance_unit})')\n",
        "    plt.legend()\n",
        "    plt.grid(True)\n",
        "\n",
        "    if save_plot:\n",
        "        plt.savefig(filename)\n",
        "        print(f\"Plot saved to {filename}\")\n",
        "\n",
        "    plt.show()\n"
      ],
      "metadata": {
        "id": "YhK5mSQnAuy6"
      },
      "execution_count": null,
      "outputs": []
    },
    {
      "cell_type": "code",
      "source": [
        "#Função para calcular distâncias entre duas cidades\n",
        "def distancia_cidades(cidade_1, cidade_2):\n",
        "  return np.sqrt((cidade_1['x']-cidade_2['x'])**2 + (cidade_1['y']-cidade_2['y'])**2  )\n"
      ],
      "metadata": {
        "id": "Gl5UsOP7JZQZ"
      },
      "execution_count": null,
      "outputs": []
    },
    {
      "cell_type": "code",
      "source": [
        "def avaliacao_rota(rota, cidades, D_diaria=60, max_dias=5):\n",
        "    total_visitado = 1  # Conta a cidade de partida\n",
        "    distancia_percorrida_dia = 0\n",
        "    d_total = 0\n",
        "    dias = 1\n",
        "\n",
        "    for i in range(len(rota) - 1):\n",
        "        cidade_origem = cidades.iloc[rota[i]]\n",
        "        cidade_destino = cidades.iloc[rota[i + 1]]\n",
        "        distancia = distancia_cidades(cidade_origem, cidade_destino)\n",
        "        d_total += distancia\n",
        "\n",
        "        if distancia_percorrida_dia + distancia <= D_diaria:\n",
        "            distancia_percorrida_dia += distancia\n",
        "            total_visitado += 1\n",
        "        else:\n",
        "            dias += 1\n",
        "            if dias > max_dias:\n",
        "                break\n",
        "            if distancia <= D_diaria:\n",
        "                distancia_percorrida_dia = distancia\n",
        "                total_visitado += 1\n",
        "            else:\n",
        "                break\n",
        "\n",
        "    return d_total  # Deve estar aqui, fora do loop\n"
      ],
      "metadata": {
        "id": "V1oTpVlfR1_B"
      },
      "execution_count": null,
      "outputs": []
    },
    {
      "cell_type": "code",
      "source": [
        "def selecao_torneio(populacao, fitness, num_individuos=5):\n",
        "  selecionado = random.sample(list(zip(populacao, fitness)), num_individuos)\n",
        "  selecionado = sorted(selecionado, key=lambda x:x[1], reverse=True)\n",
        "  return selecionado[0][0]"
      ],
      "metadata": {
        "id": "8WWoV0ktR6El"
      },
      "execution_count": null,
      "outputs": []
    },
    {
      "cell_type": "code",
      "source": [
        "def order_crossover(pai_1, pai_2):\n",
        "  size = len(pai_1)\n",
        "  filho = [None]*size\n",
        "  a, b = sorted(random.sample(range(size),2))\n",
        "\n",
        "  filho[a:b+1] = pai_1[a:b+1]\n",
        "\n",
        "  posicoes_vazias = [i for i in range(size) if filho[i] == None]\n",
        "  gene_pai_2 = [gene for gene in pai_2 if gene not in filho]\n",
        "\n",
        "  for pos, gene in zip(posicoes_vazias, gene_pai_2):\n",
        "    filho[pos] = gene\n",
        "  return filho"
      ],
      "metadata": {
        "id": "jBAfThiXyllK"
      },
      "execution_count": null,
      "outputs": []
    },
    {
      "cell_type": "code",
      "source": [
        "def mutacao(individuo):\n",
        "  a, b = random.sample(range(len(individuo)), 2)\n",
        "  individuo[a], individuo[b] = individuo[b], individuo[a]\n",
        "  return individuo"
      ],
      "metadata": {
        "id": "xDnaw8SA2qkx"
      },
      "execution_count": null,
      "outputs": []
    },
    {
      "cell_type": "code",
      "source": [
        "def algoritmo_genetico(cidades, tam_pop= 100, geracoes= 500, taxa_mutacao= 0.2):\n",
        "  n_cidades = len(cidades)\n",
        "  populacao = [random.sample(range(n_cidades), n_cidades) for _ in range(tam_pop)]\n",
        "\n",
        "  melhor_rota = None\n",
        "  melhor_fit = 100000000\n",
        "\n",
        "  for gen in range(geracoes):\n",
        "    fitness = [avaliacao_rota(ind, cidades) for ind in populacao]\n",
        "    max_fit = min(fitness)\n",
        "    if max_fit < melhor_fit:\n",
        "      melhor_fit = max_fit\n",
        "      melhor_rota = populacao[fitness.index(max_fit)]\n",
        "\n",
        "    nova_pop = []\n",
        "    rotas = []\n",
        "\n",
        "    for _ in range(tam_pop):\n",
        "      pai_1 = selecao_torneio(populacao, fitness)\n",
        "      pai_2 = selecao_torneio(populacao, fitness)\n",
        "      filho = order_crossover(pai_1, pai_2)\n",
        "\n",
        "      if random.random() < taxa_mutacao:\n",
        "        filho = mutacao(filho)\n",
        "      nova_pop.append(filho)\n",
        "    populacao = nova_pop\n",
        "\n",
        "    if(gen + 1) % 50 == 0:\n",
        "      print(f'Geração {gen+1}, melhor fitness: {melhor_fit}')\n",
        "      rotas.append(melhor_rota)\n",
        "  return melhor_rota, melhor_fit, rotas"
      ],
      "metadata": {
        "id": "exVHXfK7zW4J"
      },
      "execution_count": null,
      "outputs": []
    },
    {
      "cell_type": "code",
      "source": [
        "melhor_rota, fitness, rotas = algoritmo_genetico(cidades)\n",
        "\n",
        "print(melhor_rota)\n",
        "print(fitness)\n",
        "print(rotas)"
      ],
      "metadata": {
        "id": "SuVJEtZc5PMz"
      },
      "execution_count": null,
      "outputs": []
    },
    {
      "cell_type": "code",
      "source": [],
      "metadata": {
        "id": "0kUQCIQjA9Nz"
      },
      "execution_count": null,
      "outputs": []
    }
  ]
}